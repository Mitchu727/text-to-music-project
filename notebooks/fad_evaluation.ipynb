{
 "cells": [
  {
   "cell_type": "markdown",
   "metadata": {},
   "source": [
    "# FAD evaluation notebook\n",
    "Utilize Microsoft's fadtk to calculate FAD -inf for given datasets.\n",
    "Also detecks low probability recordings."
   ]
  },
  {
   "cell_type": "code",
   "execution_count": 1,
   "metadata": {},
   "outputs": [],
   "source": [
    "import os\n",
    "from pathlib import Path\n",
    "import pandas\n",
    "import json\n",
    "import shutil"
   ]
  },
  {
   "cell_type": "markdown",
   "metadata": {},
   "source": [
    "# Data preparation\n",
    "Data used in this notebook can be generated as follows:\n",
    "\n",
    "1. Generate promts.\n",
    "\n",
    "    Promts from Music Caps can be generated using extract_musiccaps_prompts function from src/utils.py\n",
    "\n",
    "    Already generated 1000 random Music Caps prompts are located in configs/musiccaps-prompts.txt\n",
    "    \n",
    "2. Generate audio.\n",
    "\n",
    "    3 models were used for this notebook purposes: audioldm-m-full, musicgen-medium and musicldm\n",
    "\n",
    "    Audio was generated using generate.py script\n",
    "    ```\n",
    "    python -m src.generate.py --model audioLDM --variant audioldm-m-full --promts configs/musiccaps-prompts.txt --out outputs/audioldm-m-full/\n",
    "    python -m src.generate.py --model musicgen --variant musicgen-medium --promts configs/musiccaps-prompts.txt --out outputs/musicgen-medium/\n",
    "    python -m src.generate.py --model musicLDM --variant musicldm --promts configs/musiccaps-prompts.txt --out outputs/musicldm/\n",
    "    ```\n",
    "\n",
    "    If u want to use Music Caps as baseline, to download it please reffer to README.\n",
    "\n",
    "3.  Change structure of files (cells below)\n",
    "\n",
    "    fadtk needs directory with wavs"
   ]
  },
  {
   "cell_type": "code",
   "execution_count": 2,
   "metadata": {},
   "outputs": [],
   "source": [
    "musiccaps_path = \"../musiccaps/musiccaps_small/\" #\"../musiccaps/wav/\" \n",
    "musicgen_path = \"../outputs/musicgen-medium/\" #\"../outputs/musicgen-medium/\"\n",
    "audioldm_path = \"../outputs/audioldm-m-full/\"\n",
    "musicldm_path = \"../outputs/musicldm/\""
   ]
  },
  {
   "cell_type": "code",
   "execution_count": 267,
   "metadata": {},
   "outputs": [],
   "source": [
    "def get_muscicaps_ytid_from_promt(prompt: str, musiccaps_csv: dict = None):\n",
    "    if musiccaps_csv == None:\n",
    "        musiccaps_csv = pandas.read_csv(\"../configs/musiccaps-public.csv\")\n",
    "    yt_id = musiccaps_csv.loc[musiccaps_csv[\"caption\"]==prompt][\"ytid\"].tolist()[0]\n",
    "    return yt_id\n",
    "\n",
    "def refactor_dir_structure(dataset_path: str):\n",
    "    if not Path.exists(Path(dataset_path + \"/wav/\")):\n",
    "            os.makedirs(dataset_path + \"/wav/\")\n",
    "            os.makedirs(dataset_path + \"/config/\")\n",
    "\n",
    "    for dir in os.listdir(dataset_path):\n",
    "        if dir in [\"wav\", \"config\"]:\n",
    "             continue\n",
    "        \n",
    "        dir_path = Path(dataset_path) / Path(dir)\n",
    "\n",
    "        files = []\n",
    "        tmp_files = sorted(os.listdir(dir_path))\n",
    "\n",
    "        # due to saving dir name as prompt some of them were splitted \n",
    "        # because of symbol '/', creating additional dir level\n",
    "        for subdir in tmp_files:\n",
    "            if Path(dir_path / subdir).is_dir():\n",
    "                for file in os.listdir(dir_path / subdir):   \n",
    "                    tmp_path = Path(dir_path / subdir / file)\n",
    "                    new_path = tmp_path.absolute().parents[1] / file\n",
    "\n",
    "                    id = 1\n",
    "                    while Path(new_path).exists():\n",
    "                        new_path = str(new_path)[:-len(new_path.suffix)] + f\"_{id}\" + new_path.suffix\n",
    "                    shutil.move(tmp_path, new_path)\n",
    "                os.rmdir(dir_path / subdir)\n",
    "\n",
    "        tmp_files = sorted(os.listdir(dir_path))\n",
    "       \n",
    "        for i in range(len(tmp_files)//2):\n",
    "            files.append((tmp_files[2*i], tmp_files[2*i+1]))\n",
    "\n",
    "        for config_path, wav_path in files:\n",
    "            with open(dir_path / Path(config_path), 'r') as file:\n",
    "                config = json.load(file)\n",
    "            prompt = config[\"prompt\"][:-1] #skip \\n\n",
    "            yt_id = get_muscicaps_ytid_from_promt(prompt)\n",
    "            \n",
    "            new_filename_stem = f\"[{yt_id}]\"\n",
    "            new_wav_path = dataset_path + \"/wav/\" + new_filename_stem + \".wav\"\n",
    "            new_config_path = dataset_path + \"/config/\" + new_filename_stem + \".json\"\n",
    "            shutil.move(dir_path / Path(wav_path), new_wav_path)\n",
    "            shutil.move(dir_path / Path(config_path), new_config_path)\n",
    "        os.rmdir(dir_path)\n",
    "    "
   ]
  },
  {
   "cell_type": "code",
   "execution_count": 269,
   "metadata": {},
   "outputs": [],
   "source": [
    "refactor_dir_structure(musicgen_path)\n",
    "refactor_dir_structure(audioldm_path)\n",
    "refactor_dir_structure(musicldm_path)"
   ]
  },
  {
   "cell_type": "markdown",
   "metadata": {},
   "source": [
    "# Calculating FAD"
   ]
  },
  {
   "cell_type": "code",
   "execution_count": 11,
   "metadata": {},
   "outputs": [
    {
     "name": "stdout",
     "output_type": "stream",
     "text": [
      "\u001b[2;36m[17:23:15]\u001b[0m\u001b[2;36m \u001b[0m\u001b[34mINFO    \u001b[0m \u001b[1m[\u001b[0mFrechet Audio Distance\u001b[1m]\u001b[0m Loading \u001b[1;36m1\u001b[0m audio     \u001b]8;id=803553;file:///home/molejnik/repos/text-to-music-project/env/lib/python3.10/site-packages/fadtk/fad_batch.py\u001b\\\u001b[2mfad_batch.py\u001b[0m\u001b]8;;\u001b\\\u001b[2m:\u001b[0m\u001b]8;id=372201;file:///home/molejnik/repos/text-to-music-project/env/lib/python3.10/site-packages/fadtk/fad_batch.py#40\u001b\\\u001b[2m40\u001b[0m\u001b]8;;\u001b\\\n",
      "\u001b[2;36m           \u001b[0m         files\u001b[33m...\u001b[0m                                     \u001b[2m               \u001b[0m\n"
     ]
    },
    {
     "ename": "KeyboardInterrupt",
     "evalue": "",
     "output_type": "error",
     "traceback": [
      "\u001b[0;31m---------------------------------------------------------------------------\u001b[0m",
      "\u001b[0;31mKeyboardInterrupt\u001b[0m                         Traceback (most recent call last)",
      "Cell \u001b[0;32mIn[11], line 13\u001b[0m\n\u001b[1;32m     11\u001b[0m \u001b[38;5;28;01mfor\u001b[39;00m d \u001b[38;5;129;01min\u001b[39;00m [baseline, eval_set]:\n\u001b[1;32m     12\u001b[0m     \u001b[38;5;28;01mif\u001b[39;00m Path(d)\u001b[38;5;241m.\u001b[39mis_dir():\n\u001b[0;32m---> 13\u001b[0m         \u001b[43mcache_embedding_files\u001b[49m\u001b[43m(\u001b[49m\u001b[43md\u001b[49m\u001b[43m,\u001b[49m\u001b[43m \u001b[49m\u001b[43mmodel\u001b[49m\u001b[43m,\u001b[49m\u001b[43m \u001b[49m\u001b[43mworkers\u001b[49m\u001b[38;5;241;43m=\u001b[39;49m\u001b[43mnum_workers\u001b[49m\u001b[43m)\u001b[49m\n\u001b[1;32m     14\u001b[0m fad \u001b[38;5;241m=\u001b[39m FrechetAudioDistance(model, audio_load_worker\u001b[38;5;241m=\u001b[39mnum_workers, load_model\u001b[38;5;241m=\u001b[39m\u001b[38;5;28;01mFalse\u001b[39;00m)\n\u001b[1;32m     15\u001b[0m score \u001b[38;5;241m=\u001b[39m fad\u001b[38;5;241m.\u001b[39mscore(baseline, eval_set)\n",
      "File \u001b[0;32m~/repos/text-to-music-project/env/lib/python3.10/site-packages/fadtk/fad_batch.py:48\u001b[0m, in \u001b[0;36mcache_embedding_files\u001b[0;34m(files, ml, workers, **kwargs)\u001b[0m\n\u001b[1;32m     46\u001b[0m multiprocessing\u001b[38;5;241m.\u001b[39mset_start_method(\u001b[38;5;124m'\u001b[39m\u001b[38;5;124mspawn\u001b[39m\u001b[38;5;124m'\u001b[39m, force\u001b[38;5;241m=\u001b[39m\u001b[38;5;28;01mTrue\u001b[39;00m)\n\u001b[1;32m     47\u001b[0m \u001b[38;5;28;01mwith\u001b[39;00m torch\u001b[38;5;241m.\u001b[39mmultiprocessing\u001b[38;5;241m.\u001b[39mPool(workers) \u001b[38;5;28;01mas\u001b[39;00m pool:\n\u001b[0;32m---> 48\u001b[0m     \u001b[43mpool\u001b[49m\u001b[38;5;241;43m.\u001b[39;49m\u001b[43mmap\u001b[49m\u001b[43m(\u001b[49m\u001b[43m_cache_embedding_batch\u001b[49m\u001b[43m,\u001b[49m\u001b[43m \u001b[49m\u001b[43m[\u001b[49m\u001b[43m(\u001b[49m\u001b[43mb\u001b[49m\u001b[43m,\u001b[49m\u001b[43m \u001b[49m\u001b[43mml\u001b[49m\u001b[43m,\u001b[49m\u001b[43m \u001b[49m\u001b[43mkwargs\u001b[49m\u001b[43m)\u001b[49m\u001b[43m \u001b[49m\u001b[38;5;28;43;01mfor\u001b[39;49;00m\u001b[43m \u001b[49m\u001b[43mb\u001b[49m\u001b[43m \u001b[49m\u001b[38;5;129;43;01min\u001b[39;49;00m\u001b[43m \u001b[49m\u001b[43mbatches\u001b[49m\u001b[43m]\u001b[49m\u001b[43m)\u001b[49m\n",
      "File \u001b[0;32m/usr/lib/python3.10/multiprocessing/pool.py:367\u001b[0m, in \u001b[0;36mPool.map\u001b[0;34m(self, func, iterable, chunksize)\u001b[0m\n\u001b[1;32m    362\u001b[0m \u001b[38;5;28;01mdef\u001b[39;00m \u001b[38;5;21mmap\u001b[39m(\u001b[38;5;28mself\u001b[39m, func, iterable, chunksize\u001b[38;5;241m=\u001b[39m\u001b[38;5;28;01mNone\u001b[39;00m):\n\u001b[1;32m    363\u001b[0m \u001b[38;5;250m    \u001b[39m\u001b[38;5;124;03m'''\u001b[39;00m\n\u001b[1;32m    364\u001b[0m \u001b[38;5;124;03m    Apply `func` to each element in `iterable`, collecting the results\u001b[39;00m\n\u001b[1;32m    365\u001b[0m \u001b[38;5;124;03m    in a list that is returned.\u001b[39;00m\n\u001b[1;32m    366\u001b[0m \u001b[38;5;124;03m    '''\u001b[39;00m\n\u001b[0;32m--> 367\u001b[0m     \u001b[38;5;28;01mreturn\u001b[39;00m \u001b[38;5;28;43mself\u001b[39;49m\u001b[38;5;241;43m.\u001b[39;49m\u001b[43m_map_async\u001b[49m\u001b[43m(\u001b[49m\u001b[43mfunc\u001b[49m\u001b[43m,\u001b[49m\u001b[43m \u001b[49m\u001b[43miterable\u001b[49m\u001b[43m,\u001b[49m\u001b[43m \u001b[49m\u001b[43mmapstar\u001b[49m\u001b[43m,\u001b[49m\u001b[43m \u001b[49m\u001b[43mchunksize\u001b[49m\u001b[43m)\u001b[49m\u001b[38;5;241;43m.\u001b[39;49m\u001b[43mget\u001b[49m\u001b[43m(\u001b[49m\u001b[43m)\u001b[49m\n",
      "File \u001b[0;32m/usr/lib/python3.10/multiprocessing/pool.py:768\u001b[0m, in \u001b[0;36mApplyResult.get\u001b[0;34m(self, timeout)\u001b[0m\n\u001b[1;32m    767\u001b[0m \u001b[38;5;28;01mdef\u001b[39;00m \u001b[38;5;21mget\u001b[39m(\u001b[38;5;28mself\u001b[39m, timeout\u001b[38;5;241m=\u001b[39m\u001b[38;5;28;01mNone\u001b[39;00m):\n\u001b[0;32m--> 768\u001b[0m     \u001b[38;5;28;43mself\u001b[39;49m\u001b[38;5;241;43m.\u001b[39;49m\u001b[43mwait\u001b[49m\u001b[43m(\u001b[49m\u001b[43mtimeout\u001b[49m\u001b[43m)\u001b[49m\n\u001b[1;32m    769\u001b[0m     \u001b[38;5;28;01mif\u001b[39;00m \u001b[38;5;129;01mnot\u001b[39;00m \u001b[38;5;28mself\u001b[39m\u001b[38;5;241m.\u001b[39mready():\n\u001b[1;32m    770\u001b[0m         \u001b[38;5;28;01mraise\u001b[39;00m \u001b[38;5;167;01mTimeoutError\u001b[39;00m\n",
      "File \u001b[0;32m/usr/lib/python3.10/multiprocessing/pool.py:765\u001b[0m, in \u001b[0;36mApplyResult.wait\u001b[0;34m(self, timeout)\u001b[0m\n\u001b[1;32m    764\u001b[0m \u001b[38;5;28;01mdef\u001b[39;00m \u001b[38;5;21mwait\u001b[39m(\u001b[38;5;28mself\u001b[39m, timeout\u001b[38;5;241m=\u001b[39m\u001b[38;5;28;01mNone\u001b[39;00m):\n\u001b[0;32m--> 765\u001b[0m     \u001b[38;5;28;43mself\u001b[39;49m\u001b[38;5;241;43m.\u001b[39;49m\u001b[43m_event\u001b[49m\u001b[38;5;241;43m.\u001b[39;49m\u001b[43mwait\u001b[49m\u001b[43m(\u001b[49m\u001b[43mtimeout\u001b[49m\u001b[43m)\u001b[49m\n",
      "File \u001b[0;32m/usr/lib/python3.10/threading.py:607\u001b[0m, in \u001b[0;36mEvent.wait\u001b[0;34m(self, timeout)\u001b[0m\n\u001b[1;32m    605\u001b[0m signaled \u001b[38;5;241m=\u001b[39m \u001b[38;5;28mself\u001b[39m\u001b[38;5;241m.\u001b[39m_flag\n\u001b[1;32m    606\u001b[0m \u001b[38;5;28;01mif\u001b[39;00m \u001b[38;5;129;01mnot\u001b[39;00m signaled:\n\u001b[0;32m--> 607\u001b[0m     signaled \u001b[38;5;241m=\u001b[39m \u001b[38;5;28;43mself\u001b[39;49m\u001b[38;5;241;43m.\u001b[39;49m\u001b[43m_cond\u001b[49m\u001b[38;5;241;43m.\u001b[39;49m\u001b[43mwait\u001b[49m\u001b[43m(\u001b[49m\u001b[43mtimeout\u001b[49m\u001b[43m)\u001b[49m\n\u001b[1;32m    608\u001b[0m \u001b[38;5;28;01mreturn\u001b[39;00m signaled\n",
      "File \u001b[0;32m/usr/lib/python3.10/threading.py:320\u001b[0m, in \u001b[0;36mCondition.wait\u001b[0;34m(self, timeout)\u001b[0m\n\u001b[1;32m    318\u001b[0m \u001b[38;5;28;01mtry\u001b[39;00m:    \u001b[38;5;66;03m# restore state no matter what (e.g., KeyboardInterrupt)\u001b[39;00m\n\u001b[1;32m    319\u001b[0m     \u001b[38;5;28;01mif\u001b[39;00m timeout \u001b[38;5;129;01mis\u001b[39;00m \u001b[38;5;28;01mNone\u001b[39;00m:\n\u001b[0;32m--> 320\u001b[0m         \u001b[43mwaiter\u001b[49m\u001b[38;5;241;43m.\u001b[39;49m\u001b[43macquire\u001b[49m\u001b[43m(\u001b[49m\u001b[43m)\u001b[49m\n\u001b[1;32m    321\u001b[0m         gotit \u001b[38;5;241m=\u001b[39m \u001b[38;5;28;01mTrue\u001b[39;00m\n\u001b[1;32m    322\u001b[0m     \u001b[38;5;28;01melse\u001b[39;00m:\n",
      "\u001b[0;31mKeyboardInterrupt\u001b[0m: "
     ]
    }
   ],
   "source": [
    "from fadtk import FrechetAudioDistance, get_all_models, cache_embedding_files\n",
    "\n",
    "num_workers = 6\n",
    "model = \"clap-2023\"\n",
    "baseline = \"../musiccaps/musiccaps_small\"\n",
    "eval_set = \"../outputs/musicgen-small/wav/\"\n",
    "\n",
    "models = {m.name: m for m in get_all_models()}\n",
    "model = models[model]\n",
    "\n",
    "for d in [baseline, eval_set]:\n",
    "    if Path(d).is_dir():\n",
    "        cache_embedding_files(d, model, workers=num_workers)\n",
    "fad = FrechetAudioDistance(model, audio_load_worker=num_workers, load_model=False)\n",
    "score = fad.score(baseline, eval_set)"
   ]
  },
  {
   "cell_type": "code",
   "execution_count": null,
   "metadata": {},
   "outputs": [],
   "source": []
  }
 ],
 "metadata": {
  "kernelspec": {
   "display_name": "env",
   "language": "python",
   "name": "python3"
  },
  "language_info": {
   "codemirror_mode": {
    "name": "ipython",
    "version": 3
   },
   "file_extension": ".py",
   "mimetype": "text/x-python",
   "name": "python",
   "nbconvert_exporter": "python",
   "pygments_lexer": "ipython3",
   "version": "3.10.12"
  }
 },
 "nbformat": 4,
 "nbformat_minor": 2
}
